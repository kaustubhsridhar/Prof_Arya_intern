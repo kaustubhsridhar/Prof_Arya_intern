{
 "cells": [
  {
   "cell_type": "code",
   "execution_count": 1,
   "metadata": {
    "collapsed": false
   },
   "outputs": [],
   "source": [
    "import numpy as np\n",
    "%matplotlib inline\n",
    "import matplotlib.pyplot as plt\n",
    "import math\n",
    "import cv2"
   ]
  },
  {
   "cell_type": "code",
   "execution_count": 19,
   "metadata": {
    "collapsed": false
   },
   "outputs": [],
   "source": [
    "def lidar_map(fname):\n",
    "    #read text file\n",
    "    numbers = []\n",
    "    for line in open(fname):\n",
    "        data = line.split()\n",
    "        numbers.append(int(data[0]))\n",
    "    \n",
    "    #to uniquley name every graph when function runs for different \n",
    "    tag = fname[0:-4]# to remove the '.txt' portion\n",
    "\n",
    "    #calculate averages of every 20 values for each degree ( of total 180 degrees)\n",
    "    average_vals = []\n",
    "    start = 0\n",
    "    while start<3601:\n",
    "        addn = 0\n",
    "        for no in numbers[start:start+20]:\n",
    "            addn = addn + no\n",
    "        average_vals.append(float(addn)/20.0)\n",
    "        start = start + 20\n",
    "    \n",
    "    #calculate x and y values\n",
    "    x_vals = []\n",
    "    y_vals = []\n",
    "    thetha = 0.0\n",
    "    for r in average_vals:\n",
    "        x_vals.append(r*math.cos(thetha))\n",
    "        y_vals.append(r*math.sin(thetha))\n",
    "        thetha = thetha + math.pi/180.00\n",
    "    \n",
    "    #to save image with axes where ROBOT is @ ORIGIN\n",
    "    img = plt.plot(x_vals,y_vals, 'k.')\n",
    "    plt.savefig(tag + \"graph_w_axes.png\")\n",
    "\n",
    "    #TO SAVE IMAGE WITHOUT AXES -----\n",
    "    img = plt.plot(x_vals,y_vals, 'k.')\n",
    "    plt.axis('off')\n",
    "    plt.savefig(tag + \"graph.png\", bbox_inches='tight')"
   ]
  },
  {
   "cell_type": "code",
   "execution_count": 20,
   "metadata": {
    "collapsed": false
   },
   "outputs": [],
   "source": [
    "def houghline(name_of_img):\n",
    "#method 2 MOD ------- probabailistic hough line transform ( SEE LINK BELOW )\n",
    "\n",
    "    img = cv2.imread(name_of_img)\n",
    "    #converting to grayscale\n",
    "    gray = cv2.cvtColor(img,cv2.COLOR_BGR2GRAY)\n",
    "    #doing edge detection below\n",
    "    edges = cv2.Canny(gray, 100, 200)\n",
    "    #command to print the canny edge detected pic\n",
    "    cv2.imwrite(name_of_img[0:-4] + \"__edgepic.png\", edges)\n",
    "    # NOTE :--- name_of_img[0:-4] will give name of the image without the .png(4 chars) at its end\n",
    "    \n",
    "    #see expln of params for below @ \n",
    "    #http://opencv-python-tutroals.readthedocs.io/en/latest/py_tutorials/py_imgproc/py_houghlines/py_houghlines.html\n",
    "    lines = cv2.HoughLinesP(edges, 1, math.pi/180.0, 70, None, 70, 40); #for 181 pts - (70,None,70,40)#\n",
    "\n",
    "    for l in lines:\n",
    "        for x1,y1,x2,y2 in l:\n",
    "            pt1 = (x1,y1)\n",
    "            pt2 = (x2,y2)\n",
    "            cv2.line(img, pt1, pt2, (0,0,255))\n",
    "    #now equation of lines can be known because we have 2 points ( pt1, pt2 )\n",
    "    cv2.imwrite(name_of_img[0:-4] + \"__houghlines_2.png\", img)"
   ]
  },
  {
   "cell_type": "code",
   "execution_count": 21,
   "metadata": {
    "collapsed": false
   },
   "outputs": [
    {
     "data": {
      "image/png": "[encoded data removed]",
      "text/plain": [
       "<matplotlib.figure.Figure at 0xc621128>"
      ]
     },
     "metadata": {},
     "output_type": "display_data"
    }
   ],
   "source": [
    "lidar_map('LOG00035.txt')\n",
    "houghline(\"LOG00035graph.png\")"
   ]
  },
  {
   "cell_type": "code",
   "execution_count": 47,
   "metadata": {
    "collapsed": false
   },
   "outputs": [
    {
     "data": {
      "image/png": "[encoded data removed]",
      "text/plain": [
       "<matplotlib.figure.Figure at 0xe704208>"
      ]
     },
     "metadata": {},
     "output_type": "display_data"
    }
   ],
   "source": [
    "lidar_map('LOG00048.txt')"
   ]
  },
  {
   "cell_type": "code",
   "execution_count": 48,
   "metadata": {
    "collapsed": false
   },
   "outputs": [],
   "source": [
    "def houghcircle(name_of_img):\n",
    "#HOUGH CIRCLE TRANSFORM --- \n",
    "#http://docs.opencv.org/3.0-beta/doc/py_tutorials/py_imgproc/py_houghcircles/py_houghcircles.html\n",
    "\n",
    "    img = cv2.imread(name_of_img,0)\n",
    "    #Blurring the image\n",
    "    img = cv2.medianBlur(img,5)\n",
    "    #converting to grayscale\n",
    "    cimg = cv2.cvtColor(img,cv2.COLOR_GRAY2BGR)\n",
    "    #now hough circle transform\n",
    "    circles = cv2.HoughCircles(img,cv2.HOUGH_GRADIENT,1,2,circles = 1,param1=15,param2=15,minRadius=0,maxRadius=500)\n",
    "\n",
    "    circles = np.uint16(np.around(circles))\n",
    "    for i in circles[0,:]:\n",
    "        # draw the outer circle\n",
    "        cv2.circle(cimg,(i[0],i[1]),i[2],(0,255,0),2)\n",
    "        # draw the center of the circle\n",
    "        cv2.circle(cimg,(i[0],i[1]),2,(0,0,255),3)\n",
    "\n",
    "    cv2.imwrite(name_of_img[0:-4] + \"__HoughCircles.png\",cimg)\n",
    "\n",
    "houghcircle(\"LOG00048graph_c.png\")#works at above params, vary params to get for various images"
   ]
  },
  {
   "cell_type": "code",
   "execution_count": null,
   "metadata": {
    "collapsed": true
   },
   "outputs": [],
   "source": [
    "#BLURRING/FUZZING THE IMAGE\n",
    "#different types of blurring (can be seen at below link)\n",
    "#http://docs.opencv.org/3.1.0/d4/d13/tutorial_py_filtering.html\n",
    "img = cv2.imread('LOG00035graph.png',0)\n",
    "\n",
    "#median blur\n",
    "img1 = cv2.medianBlur(img,5)\n",
    "cv2.imwrite(\"median_blur.png\",img1)\n",
    "#gaussian blur\n",
    "img2 = cv2.GaussianBlur(img,(5,5),0)\n",
    "cv2.imwrite(\"gauss_blur.png\",img2)\n",
    "#bilateral blur\n",
    "img3 = cv2.bilateralFilter(img,9,75,75)\n",
    "cv2.imwrite(\"bi_lat_blur.png\",img3)"
   ]
  },
  {
   "cell_type": "code",
   "execution_count": null,
   "metadata": {
    "collapsed": true
   },
   "outputs": [],
   "source": []
  }
 ],
 "metadata": {
  "kernelspec": {
   "display_name": "Python 2",
   "language": "python",
   "name": "python2"
  }
 },
 "nbformat": 4,
 "nbformat_minor": 0
}
